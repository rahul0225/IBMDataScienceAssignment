{
 "cells": [
  {
   "cell_type": "markdown",
   "id": "443876f1-98fd-498b-ac3e-d9ff9377c275",
   "metadata": {},
   "source": [
    "# Data Science Tools and Ecosystem"
   ]
  },
  {
   "cell_type": "markdown",
   "id": "b32c8ecb-41e1-4961-9542-a1a11a312833",
   "metadata": {},
   "source": [
    "In this notebook, Data Science Tools and Ecosystem are summarized."
   ]
  },
  {
   "cell_type": "markdown",
   "id": "dec063eb-db67-4b87-81c6-77b9fc832813",
   "metadata": {},
   "source": [
    "Some of the popular languages that Data Scientists use are:\n",
    "\n",
    "1. Python\n",
    "2. R\n",
    "3. SQL"
   ]
  },
  {
   "cell_type": "markdown",
   "id": "efa84b98-2d5c-4344-b67f-9cf678eba72f",
   "metadata": {},
   "source": [
    "Some of the commonly used libraries used by Data Scientists include:\n",
    "\n",
    "1. Pandas\n",
    "2. NumPy\n",
    "3. Matplotlib"
   ]
  },
  {
   "cell_type": "markdown",
   "id": "93c886ca-f87b-462b-a5e1-c08dbe246e1b",
   "metadata": {},
   "source": [
    "| Data Science Tools      |\n",
    "|-------------------------|\n",
    "| Jupyter Notebook        |\n",
    "| RStudio                 |\n",
    "| VS Code with Python      |"
   ]
  },
  {
   "cell_type": "markdown",
   "id": "6027a3a1-7edb-47e7-8bc7-0d70fe5547c6",
   "metadata": {},
   "source": [
    "### Below are a few examples demonstrating how to evaluate arithmetic expressions in Python:"
   ]
  },
  {
   "cell_type": "code",
   "execution_count": 10,
   "id": "1c1765ee-c160-431a-846a-35beaef91258",
   "metadata": {},
   "outputs": [
    {
     "data": {
      "text/plain": [
       "17"
      ]
     },
     "execution_count": 10,
     "metadata": {},
     "output_type": "execute_result"
    }
   ],
   "source": [
    "# This is a simple arithmetic expression to multiply then add integers.\n",
    "result = (3 * 4) + 5\n",
    "result"
   ]
  },
  {
   "cell_type": "code",
   "execution_count": 11,
   "id": "30c551e6-9f1b-4d6c-9410-a09dc2633c28",
   "metadata": {},
   "outputs": [
    {
     "data": {
      "text/plain": [
       "3.3333333333333335"
      ]
     },
     "execution_count": 11,
     "metadata": {},
     "output_type": "execute_result"
    }
   ],
   "source": [
    "# This will convert 200 minutes to hours by dividing by 60.\n",
    "minutes = 200\n",
    "hours = minutes / 60\n",
    "hours"
   ]
  },
  {
   "cell_type": "markdown",
   "id": "706d23b5-b15d-4043-84cf-a4577c6862ea",
   "metadata": {},
   "source": [
    "**Objectives:**\n",
    "\n",
    "- List popular languages for Data Science.\n",
    "- Introduce common libraries used in Data Science.\n",
    "- Demonstrate basic arithmetic operations in Python.\n",
    "- Convert units of time (minutes to hours) using Python."
   ]
  },
  {
   "cell_type": "markdown",
   "id": "fd12fffe-9c2b-430e-b005-0f5ed073f622",
   "metadata": {},
   "source": [
    "## Author\n",
    "Rahul Sharma"
   ]
  },
  {
   "cell_type": "code",
   "execution_count": null,
   "id": "e3af4b29-f2ce-4a71-8ac5-85e23d80632e",
   "metadata": {},
   "outputs": [],
   "source": []
  }
 ],
 "metadata": {
  "kernelspec": {
   "display_name": "Python 3 (ipykernel)",
   "language": "python",
   "name": "python3"
  },
  "language_info": {
   "codemirror_mode": {
    "name": "ipython",
    "version": 3
   },
   "file_extension": ".py",
   "mimetype": "text/x-python",
   "name": "python",
   "nbconvert_exporter": "python",
   "pygments_lexer": "ipython3",
   "version": "3.12.4"
  }
 },
 "nbformat": 4,
 "nbformat_minor": 5
}
